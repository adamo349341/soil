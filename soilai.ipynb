{
  "nbformat": 4,
  "nbformat_minor": 0,
  "metadata": {
    "colab": {
      "provenance": []
    },
    "kernelspec": {
      "name": "python3",
      "display_name": "Python 3"
    },
    "language_info": {
      "name": "python"
    }
  },
  "cells": [
    {
      "cell_type": "code",
      "execution_count": 24,
      "metadata": {
        "id": "rQ3RePzj19b0",
        "colab": {
          "base_uri": "https://localhost:8080/"
        },
        "outputId": "2050aeab-d6ee-4825-df92-048756bcb21e"
      },
      "outputs": [
        {
          "output_type": "stream",
          "name": "stdout",
          "text": [
            "Predicted Erosion Risk: Low\n",
            "Predicted Biofertilizer Formulation: Formulation C\n"
          ]
        },
        {
          "output_type": "stream",
          "name": "stderr",
          "text": [
            "/usr/local/lib/python3.11/dist-packages/sklearn/utils/validation.py:2739: UserWarning: X does not have valid feature names, but RandomForestRegressor was fitted with feature names\n",
            "  warnings.warn(\n"
          ]
        }
      ],
      "source": [
        "import numpy as np\n",
        "import pandas as pd\n",
        "from sklearn.model_selection import train_test_split\n",
        "from sklearn.preprocessing import LabelEncoder\n",
        "from sklearn.ensemble import RandomForestRegressor\n",
        "\n",
        "data = pd.read_csv('SoilDataset_Extended (1).csv')\n",
        "\n",
        "categorical_columns = ['Erosion Risk', 'Optimal Biofertilizer Formulation']\n",
        "\n",
        "\n",
        "label_encoders = {}\n",
        "for col in categorical_columns:\n",
        "    le = LabelEncoder()\n",
        "    data[col] = le.fit_transform(data[col])\n",
        "    label_encoders[col] = le\n",
        "\n",
        "X = data.iloc[:, :-2]\n",
        "y = data[['Erosion Risk', 'Optimal Biofertilizer Formulation']]\n",
        "\n",
        "X_train, X_test, y_train, y_test = train_test_split(X, y, test_size=0.2, random_state=42)\n",
        "\n",
        "model = RandomForestRegressor(n_estimators=100, random_state=42)\n",
        "model.fit(X_train, y_train)\n",
        "\n",
        "input = [\t3.0,6.9,\t3.2,\t30.1,19.0, 12.5,120.0,35.0,31.0,32.0,100000000.0,15.0,5.5,16.0]\n",
        "\n",
        "\n",
        "predicted = model.predict([input])[0]\n",
        "predicted_erosion_risk = label_encoders['Erosion Risk'].inverse_transform([round(predicted[0])])[0]\n",
        "predicted_biofertilizer = label_encoders['Optimal Biofertilizer Formulation'].inverse_transform([round(predicted[1])])[0]\n",
        "\n",
        "print(f\"Predicted Erosion Risk: {predicted_erosion_risk}\")\n",
        "print(f\"Predicted Biofertilizer Formulation: {predicted_biofertilizer}\")\n",
        "\n",
        "\n",
        "\n"
      ]
    }
  ]
}