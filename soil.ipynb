{
  "nbformat": 4,
  "nbformat_minor": 0,
  "metadata": {
    "colab": {
      "provenance": []
    },
    "kernelspec": {
      "name": "python3",
      "display_name": "Python 3"
    },
    "language_info": {
      "name": "python"
    }
  },
  "cells": [
    {
      "cell_type": "code",
      "source": [
        "import pandas as pd\n",
        "from sklearn.preprocessing import LabelEncoder, StandardScaler\n",
        "from sklearn.ensemble import RandomForestClassifier\n",
        "from sklearn.model_selection import train_test_split\n",
        "import numpy as np # Added import for np\n",
        "\n",
        "# ... (rest of the code remains the same) ...\n",
        "\n",
        "# Prediction function\n",
        "def predict_soil_properties(input_data):\n",
        "    # Convert input to DataFrame with all original columns\n",
        "    input_df = pd.DataFrame([input_data], columns=original_columns)\n",
        "\n",
        "    # Apply same transformations\n",
        "    input_df['Microbial Activity'] = np.log1p(input_df['Microbial Activity (CFU/g)'])\n",
        "    input_df = input_df.drop(columns=['Microbial Activity (CFU/g)'])\n",
        "\n",
        "    # **Reorder columns to match training data (including 'Microbial Activity')**\n",
        "    # input_df = input_df[original_columns.drop('Microbial Activity (CFU/g)')] # Exclude the dropped column #Old line - Commented out\n",
        "    input_df = input_df[X.columns] # New line: Reorder columns to match X used for training\n",
        "\n",
        "    scaled_input = scaler.transform(input_df)\n",
        "\n",
        "    # Make predictions\n",
        "    erosion = erosion_encoder.inverse_transform(erosion_model.predict(scaled_input))[0]\n",
        "    biofert = biofert_encoder.inverse_transform(biofert_model.predict(scaled_input))[0]\n",
        "\n",
        "    return erosion, biofert\n",
        "\n",
        "# Example usage\n",
        "sample_soil = {\n",
        "    'Soil Salinity (EC)': 2.5,\n",
        "    'Soil pH': 6.8,\n",
        "    'Organic Matter Content (%)': 3.2,\n",
        "    'Soil Moisture (%)': 25.0,\n",
        "    'Nitrogen (mg/kg)': 15.0,\n",
        "    'Phosphorus (mg/kg)': 10.0,\n",
        "    'Potassium (mg/kg)': 200.0,\n",
        "    'Sand (%)': 40.0,\n",
        "    'Silt (%)': 30.0,\n",
        "    'Clay (%)': 30.0,\n",
        "    'Microbial Activity (CFU/g)': 5000000.0,\n",
        "    'CEC (meq/100g)': 12.0,\n",
        "    'SAR': 5.0,\n",
        "    'Sample ID': 1,\n",
        "    'Biofertilizer':\n",
        "}\n",
        "\n",
        "risk_level, formulation = predict_soil_properties(sample_soil)\n",
        "print(f\"Erosion Risk: {risk_level}\")\n",
        "print(f\"Recommended Biofertilizer: {formulation}\")"
      ],
      "metadata": {
        "colab": {
          "base_uri": "https://localhost:8080/"
        },
        "id": "B1258BytIZ0A",
        "outputId": "47f0ba35-fbd1-4b93-ae0b-5ade20197c8b"
      },
      "execution_count": 17,
      "outputs": [
        {
          "output_type": "stream",
          "name": "stdout",
          "text": [
            "Erosion Risk: Low\n",
            "Recommended Biofertilizer: Formulation A\n"
          ]
        }
      ]
    },
    {
      "cell_type": "markdown",
      "source": [],
      "metadata": {
        "id": "G7JjYhf3P980"
      }
    }
  ]
}